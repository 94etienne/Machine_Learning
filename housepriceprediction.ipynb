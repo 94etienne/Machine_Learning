{
 "cells": [
  {
   "cell_type": "code",
   "execution_count": 1,
   "id": "f51447f9",
   "metadata": {
    "_cell_guid": "b1076dfc-b9ad-4769-8c92-a6c4dae69d19",
    "_uuid": "8f2839f25d086af736a60e9eeb907d3b93b6e0e5",
    "execution": {
     "iopub.execute_input": "2023-12-02T11:36:19.559210Z",
     "iopub.status.busy": "2023-12-02T11:36:19.558812Z",
     "iopub.status.idle": "2023-12-02T11:36:21.421726Z",
     "shell.execute_reply": "2023-12-02T11:36:21.420357Z"
    },
    "papermill": {
     "duration": 1.870684,
     "end_time": "2023-12-02T11:36:21.424252",
     "exception": false,
     "start_time": "2023-12-02T11:36:19.553568",
     "status": "completed"
    },
    "tags": []
   },
   "outputs": [],
   "source": [
    "import pandas as pd\n",
    "import numpy as np\n",
    "from sklearn import linear_model #for prediction\n",
    "from sklearn.model_selection import train_test_split #split data into traing and testing set"
   ]
  },
  {
   "cell_type": "code",
   "execution_count": 2,
   "id": "2f3aa944",
   "metadata": {
    "execution": {
     "iopub.execute_input": "2023-12-02T11:36:21.434945Z",
     "iopub.status.busy": "2023-12-02T11:36:21.434443Z",
     "iopub.status.idle": "2023-12-02T11:36:23.189428Z",
     "shell.execute_reply": "2023-12-02T11:36:23.187303Z"
    },
    "papermill": {
     "duration": 1.762653,
     "end_time": "2023-12-02T11:36:23.192479",
     "exception": false,
     "start_time": "2023-12-02T11:36:21.429826",
     "status": "completed"
    },
    "tags": []
   },
   "outputs": [
    {
     "data": {
      "text/plain": [
       "{'data': array([[   8.3252    ,   41.        ,    6.98412698, ...,    2.55555556,\n",
       "           37.88      , -122.23      ],\n",
       "        [   8.3014    ,   21.        ,    6.23813708, ...,    2.10984183,\n",
       "           37.86      , -122.22      ],\n",
       "        [   7.2574    ,   52.        ,    8.28813559, ...,    2.80225989,\n",
       "           37.85      , -122.24      ],\n",
       "        ...,\n",
       "        [   1.7       ,   17.        ,    5.20554273, ...,    2.3256351 ,\n",
       "           39.43      , -121.22      ],\n",
       "        [   1.8672    ,   18.        ,    5.32951289, ...,    2.12320917,\n",
       "           39.43      , -121.32      ],\n",
       "        [   2.3886    ,   16.        ,    5.25471698, ...,    2.61698113,\n",
       "           39.37      , -121.24      ]]),\n",
       " 'target': array([4.526, 3.585, 3.521, ..., 0.923, 0.847, 0.894]),\n",
       " 'frame': None,\n",
       " 'target_names': ['MedHouseVal'],\n",
       " 'feature_names': ['MedInc',\n",
       "  'HouseAge',\n",
       "  'AveRooms',\n",
       "  'AveBedrms',\n",
       "  'Population',\n",
       "  'AveOccup',\n",
       "  'Latitude',\n",
       "  'Longitude'],\n",
       " 'DESCR': '.. _california_housing_dataset:\\n\\nCalifornia Housing dataset\\n--------------------------\\n\\n**Data Set Characteristics:**\\n\\n    :Number of Instances: 20640\\n\\n    :Number of Attributes: 8 numeric, predictive attributes and the target\\n\\n    :Attribute Information:\\n        - MedInc        median income in block group\\n        - HouseAge      median house age in block group\\n        - AveRooms      average number of rooms per household\\n        - AveBedrms     average number of bedrooms per household\\n        - Population    block group population\\n        - AveOccup      average number of household members\\n        - Latitude      block group latitude\\n        - Longitude     block group longitude\\n\\n    :Missing Attribute Values: None\\n\\nThis dataset was obtained from the StatLib repository.\\nhttps://www.dcc.fc.up.pt/~ltorgo/Regression/cal_housing.html\\n\\nThe target variable is the median house value for California districts,\\nexpressed in hundreds of thousands of dollars ($100,000).\\n\\nThis dataset was derived from the 1990 U.S. census, using one row per census\\nblock group. A block group is the smallest geographical unit for which the U.S.\\nCensus Bureau publishes sample data (a block group typically has a population\\nof 600 to 3,000 people).\\n\\nA household is a group of people residing within a home. Since the average\\nnumber of rooms and bedrooms in this dataset are provided per household, these\\ncolumns may take surprisingly large values for block groups with few households\\nand many empty houses, such as vacation resorts.\\n\\nIt can be downloaded/loaded using the\\n:func:`sklearn.datasets.fetch_california_housing` function.\\n\\n.. topic:: References\\n\\n    - Pace, R. Kelley and Ronald Barry, Sparse Spatial Autoregressions,\\n      Statistics and Probability Letters, 33 (1997) 291-297\\n'}"
      ]
     },
     "execution_count": 2,
     "metadata": {},
     "output_type": "execute_result"
    }
   ],
   "source": [
    "# LOAD CALIFONIA HOUSING DATASET FROM SKLEARN.DATASET  AND PRINT IT\n",
    "\n",
    "from sklearn.datasets import fetch_california_housing\n",
    "boston = fetch_california_housing()\n",
    "\n",
    "boston\n"
   ]
  },
  {
   "cell_type": "code",
   "execution_count": 3,
   "id": "547927e1",
   "metadata": {
    "execution": {
     "iopub.execute_input": "2023-12-02T11:36:23.201757Z",
     "iopub.status.busy": "2023-12-02T11:36:23.201340Z",
     "iopub.status.idle": "2023-12-02T11:36:23.210941Z",
     "shell.execute_reply": "2023-12-02T11:36:23.209161Z"
    },
    "papermill": {
     "duration": 0.018132,
     "end_time": "2023-12-02T11:36:23.214638",
     "exception": false,
     "start_time": "2023-12-02T11:36:23.196506",
     "status": "completed"
    },
    "tags": []
   },
   "outputs": [],
   "source": [
    "# Transform a dataset into a DATAFRAME\n",
    "# data = the data independent values for X\n",
    "# feature_names = column name of data\n",
    "# target= the target variable for the price or dependent variable known as Y\n",
    "\n",
    "df_x = pd.DataFrame(boston.data,columns=boston.feature_names)\n",
    "df_y = pd.DataFrame(boston.target)"
   ]
  },
  {
   "cell_type": "code",
   "execution_count": 4,
   "id": "c1f5bdcf",
   "metadata": {
    "execution": {
     "iopub.execute_input": "2023-12-02T11:36:23.223758Z",
     "iopub.status.busy": "2023-12-02T11:36:23.223353Z",
     "iopub.status.idle": "2023-12-02T11:36:23.283152Z",
     "shell.execute_reply": "2023-12-02T11:36:23.281131Z"
    },
    "papermill": {
     "duration": 0.067872,
     "end_time": "2023-12-02T11:36:23.286289",
     "exception": false,
     "start_time": "2023-12-02T11:36:23.218417",
     "status": "completed"
    },
    "tags": []
   },
   "outputs": [
    {
     "data": {
      "text/html": [
       "<div>\n",
       "<style scoped>\n",
       "    .dataframe tbody tr th:only-of-type {\n",
       "        vertical-align: middle;\n",
       "    }\n",
       "\n",
       "    .dataframe tbody tr th {\n",
       "        vertical-align: top;\n",
       "    }\n",
       "\n",
       "    .dataframe thead th {\n",
       "        text-align: right;\n",
       "    }\n",
       "</style>\n",
       "<table border=\"1\" class=\"dataframe\">\n",
       "  <thead>\n",
       "    <tr style=\"text-align: right;\">\n",
       "      <th></th>\n",
       "      <th>MedInc</th>\n",
       "      <th>HouseAge</th>\n",
       "      <th>AveRooms</th>\n",
       "      <th>AveBedrms</th>\n",
       "      <th>Population</th>\n",
       "      <th>AveOccup</th>\n",
       "      <th>Latitude</th>\n",
       "      <th>Longitude</th>\n",
       "    </tr>\n",
       "  </thead>\n",
       "  <tbody>\n",
       "    <tr>\n",
       "      <th>count</th>\n",
       "      <td>20640.000000</td>\n",
       "      <td>20640.000000</td>\n",
       "      <td>20640.000000</td>\n",
       "      <td>20640.000000</td>\n",
       "      <td>20640.000000</td>\n",
       "      <td>20640.000000</td>\n",
       "      <td>20640.000000</td>\n",
       "      <td>20640.000000</td>\n",
       "    </tr>\n",
       "    <tr>\n",
       "      <th>mean</th>\n",
       "      <td>3.870671</td>\n",
       "      <td>28.639486</td>\n",
       "      <td>5.429000</td>\n",
       "      <td>1.096675</td>\n",
       "      <td>1425.476744</td>\n",
       "      <td>3.070655</td>\n",
       "      <td>35.631861</td>\n",
       "      <td>-119.569704</td>\n",
       "    </tr>\n",
       "    <tr>\n",
       "      <th>std</th>\n",
       "      <td>1.899822</td>\n",
       "      <td>12.585558</td>\n",
       "      <td>2.474173</td>\n",
       "      <td>0.473911</td>\n",
       "      <td>1132.462122</td>\n",
       "      <td>10.386050</td>\n",
       "      <td>2.135952</td>\n",
       "      <td>2.003532</td>\n",
       "    </tr>\n",
       "    <tr>\n",
       "      <th>min</th>\n",
       "      <td>0.499900</td>\n",
       "      <td>1.000000</td>\n",
       "      <td>0.846154</td>\n",
       "      <td>0.333333</td>\n",
       "      <td>3.000000</td>\n",
       "      <td>0.692308</td>\n",
       "      <td>32.540000</td>\n",
       "      <td>-124.350000</td>\n",
       "    </tr>\n",
       "    <tr>\n",
       "      <th>25%</th>\n",
       "      <td>2.563400</td>\n",
       "      <td>18.000000</td>\n",
       "      <td>4.440716</td>\n",
       "      <td>1.006079</td>\n",
       "      <td>787.000000</td>\n",
       "      <td>2.429741</td>\n",
       "      <td>33.930000</td>\n",
       "      <td>-121.800000</td>\n",
       "    </tr>\n",
       "    <tr>\n",
       "      <th>50%</th>\n",
       "      <td>3.534800</td>\n",
       "      <td>29.000000</td>\n",
       "      <td>5.229129</td>\n",
       "      <td>1.048780</td>\n",
       "      <td>1166.000000</td>\n",
       "      <td>2.818116</td>\n",
       "      <td>34.260000</td>\n",
       "      <td>-118.490000</td>\n",
       "    </tr>\n",
       "    <tr>\n",
       "      <th>75%</th>\n",
       "      <td>4.743250</td>\n",
       "      <td>37.000000</td>\n",
       "      <td>6.052381</td>\n",
       "      <td>1.099526</td>\n",
       "      <td>1725.000000</td>\n",
       "      <td>3.282261</td>\n",
       "      <td>37.710000</td>\n",
       "      <td>-118.010000</td>\n",
       "    </tr>\n",
       "    <tr>\n",
       "      <th>max</th>\n",
       "      <td>15.000100</td>\n",
       "      <td>52.000000</td>\n",
       "      <td>141.909091</td>\n",
       "      <td>34.066667</td>\n",
       "      <td>35682.000000</td>\n",
       "      <td>1243.333333</td>\n",
       "      <td>41.950000</td>\n",
       "      <td>-114.310000</td>\n",
       "    </tr>\n",
       "  </tbody>\n",
       "</table>\n",
       "</div>"
      ],
      "text/plain": [
       "             MedInc      HouseAge      AveRooms     AveBedrms    Population  \\\n",
       "count  20640.000000  20640.000000  20640.000000  20640.000000  20640.000000   \n",
       "mean       3.870671     28.639486      5.429000      1.096675   1425.476744   \n",
       "std        1.899822     12.585558      2.474173      0.473911   1132.462122   \n",
       "min        0.499900      1.000000      0.846154      0.333333      3.000000   \n",
       "25%        2.563400     18.000000      4.440716      1.006079    787.000000   \n",
       "50%        3.534800     29.000000      5.229129      1.048780   1166.000000   \n",
       "75%        4.743250     37.000000      6.052381      1.099526   1725.000000   \n",
       "max       15.000100     52.000000    141.909091     34.066667  35682.000000   \n",
       "\n",
       "           AveOccup      Latitude     Longitude  \n",
       "count  20640.000000  20640.000000  20640.000000  \n",
       "mean       3.070655     35.631861   -119.569704  \n",
       "std       10.386050      2.135952      2.003532  \n",
       "min        0.692308     32.540000   -124.350000  \n",
       "25%        2.429741     33.930000   -121.800000  \n",
       "50%        2.818116     34.260000   -118.490000  \n",
       "75%        3.282261     37.710000   -118.010000  \n",
       "max     1243.333333     41.950000   -114.310000  "
      ]
     },
     "execution_count": 4,
     "metadata": {},
     "output_type": "execute_result"
    }
   ],
   "source": [
    "# get some statistics from dataset\n",
    "df_x.describe()"
   ]
  },
  {
   "cell_type": "code",
   "execution_count": 5,
   "id": "a905c11c",
   "metadata": {
    "execution": {
     "iopub.execute_input": "2023-12-02T11:36:23.296153Z",
     "iopub.status.busy": "2023-12-02T11:36:23.295716Z",
     "iopub.status.idle": "2023-12-02T11:36:23.301595Z",
     "shell.execute_reply": "2023-12-02T11:36:23.300142Z"
    },
    "papermill": {
     "duration": 0.013638,
     "end_time": "2023-12-02T11:36:23.304166",
     "exception": false,
     "start_time": "2023-12-02T11:36:23.290528",
     "status": "completed"
    },
    "tags": []
   },
   "outputs": [],
   "source": [
    "# Initialize the linear regression model\n",
    "reg= linear_model.LinearRegression()"
   ]
  },
  {
   "cell_type": "code",
   "execution_count": 6,
   "id": "de243130",
   "metadata": {
    "execution": {
     "iopub.execute_input": "2023-12-02T11:36:23.313403Z",
     "iopub.status.busy": "2023-12-02T11:36:23.312984Z",
     "iopub.status.idle": "2023-12-02T11:36:23.329028Z",
     "shell.execute_reply": "2023-12-02T11:36:23.327151Z"
    },
    "papermill": {
     "duration": 0.024063,
     "end_time": "2023-12-02T11:36:23.332004",
     "exception": false,
     "start_time": "2023-12-02T11:36:23.307941",
     "status": "completed"
    },
    "tags": []
   },
   "outputs": [],
   "source": [
    "# Split data into 67% training and 33% testing Data\n",
    "x_train,x_test,y_train,y_test = train_test_split(df_x,df_y,test_size=0.33, random_state=42)"
   ]
  },
  {
   "cell_type": "code",
   "execution_count": 7,
   "id": "2af1f1a8",
   "metadata": {
    "execution": {
     "iopub.execute_input": "2023-12-02T11:36:23.341945Z",
     "iopub.status.busy": "2023-12-02T11:36:23.341509Z",
     "iopub.status.idle": "2023-12-02T11:36:23.387058Z",
     "shell.execute_reply": "2023-12-02T11:36:23.385929Z"
    },
    "papermill": {
     "duration": 0.053549,
     "end_time": "2023-12-02T11:36:23.389417",
     "exception": false,
     "start_time": "2023-12-02T11:36:23.335868",
     "status": "completed"
    },
    "tags": []
   },
   "outputs": [
    {
     "data": {
      "text/html": [
       "<style>#sk-container-id-1 {color: black;background-color: white;}#sk-container-id-1 pre{padding: 0;}#sk-container-id-1 div.sk-toggleable {background-color: white;}#sk-container-id-1 label.sk-toggleable__label {cursor: pointer;display: block;width: 100%;margin-bottom: 0;padding: 0.3em;box-sizing: border-box;text-align: center;}#sk-container-id-1 label.sk-toggleable__label-arrow:before {content: \"▸\";float: left;margin-right: 0.25em;color: #696969;}#sk-container-id-1 label.sk-toggleable__label-arrow:hover:before {color: black;}#sk-container-id-1 div.sk-estimator:hover label.sk-toggleable__label-arrow:before {color: black;}#sk-container-id-1 div.sk-toggleable__content {max-height: 0;max-width: 0;overflow: hidden;text-align: left;background-color: #f0f8ff;}#sk-container-id-1 div.sk-toggleable__content pre {margin: 0.2em;color: black;border-radius: 0.25em;background-color: #f0f8ff;}#sk-container-id-1 input.sk-toggleable__control:checked~div.sk-toggleable__content {max-height: 200px;max-width: 100%;overflow: auto;}#sk-container-id-1 input.sk-toggleable__control:checked~label.sk-toggleable__label-arrow:before {content: \"▾\";}#sk-container-id-1 div.sk-estimator input.sk-toggleable__control:checked~label.sk-toggleable__label {background-color: #d4ebff;}#sk-container-id-1 div.sk-label input.sk-toggleable__control:checked~label.sk-toggleable__label {background-color: #d4ebff;}#sk-container-id-1 input.sk-hidden--visually {border: 0;clip: rect(1px 1px 1px 1px);clip: rect(1px, 1px, 1px, 1px);height: 1px;margin: -1px;overflow: hidden;padding: 0;position: absolute;width: 1px;}#sk-container-id-1 div.sk-estimator {font-family: monospace;background-color: #f0f8ff;border: 1px dotted black;border-radius: 0.25em;box-sizing: border-box;margin-bottom: 0.5em;}#sk-container-id-1 div.sk-estimator:hover {background-color: #d4ebff;}#sk-container-id-1 div.sk-parallel-item::after {content: \"\";width: 100%;border-bottom: 1px solid gray;flex-grow: 1;}#sk-container-id-1 div.sk-label:hover label.sk-toggleable__label {background-color: #d4ebff;}#sk-container-id-1 div.sk-serial::before {content: \"\";position: absolute;border-left: 1px solid gray;box-sizing: border-box;top: 0;bottom: 0;left: 50%;z-index: 0;}#sk-container-id-1 div.sk-serial {display: flex;flex-direction: column;align-items: center;background-color: white;padding-right: 0.2em;padding-left: 0.2em;position: relative;}#sk-container-id-1 div.sk-item {position: relative;z-index: 1;}#sk-container-id-1 div.sk-parallel {display: flex;align-items: stretch;justify-content: center;background-color: white;position: relative;}#sk-container-id-1 div.sk-item::before, #sk-container-id-1 div.sk-parallel-item::before {content: \"\";position: absolute;border-left: 1px solid gray;box-sizing: border-box;top: 0;bottom: 0;left: 50%;z-index: -1;}#sk-container-id-1 div.sk-parallel-item {display: flex;flex-direction: column;z-index: 1;position: relative;background-color: white;}#sk-container-id-1 div.sk-parallel-item:first-child::after {align-self: flex-end;width: 50%;}#sk-container-id-1 div.sk-parallel-item:last-child::after {align-self: flex-start;width: 50%;}#sk-container-id-1 div.sk-parallel-item:only-child::after {width: 0;}#sk-container-id-1 div.sk-dashed-wrapped {border: 1px dashed gray;margin: 0 0.4em 0.5em 0.4em;box-sizing: border-box;padding-bottom: 0.4em;background-color: white;}#sk-container-id-1 div.sk-label label {font-family: monospace;font-weight: bold;display: inline-block;line-height: 1.2em;}#sk-container-id-1 div.sk-label-container {text-align: center;}#sk-container-id-1 div.sk-container {/* jupyter's `normalize.less` sets `[hidden] { display: none; }` but bootstrap.min.css set `[hidden] { display: none !important; }` so we also need the `!important` here to be able to override the default hidden behavior on the sphinx rendered scikit-learn.org. See: https://github.com/scikit-learn/scikit-learn/issues/21755 */display: inline-block !important;position: relative;}#sk-container-id-1 div.sk-text-repr-fallback {display: none;}</style><div id=\"sk-container-id-1\" class=\"sk-top-container\"><div class=\"sk-text-repr-fallback\"><pre>LinearRegression()</pre><b>In a Jupyter environment, please rerun this cell to show the HTML representation or trust the notebook. <br />On GitHub, the HTML representation is unable to render, please try loading this page with nbviewer.org.</b></div><div class=\"sk-container\" hidden><div class=\"sk-item\"><div class=\"sk-estimator sk-toggleable\"><input class=\"sk-toggleable__control sk-hidden--visually\" id=\"sk-estimator-id-1\" type=\"checkbox\" checked><label for=\"sk-estimator-id-1\" class=\"sk-toggleable__label sk-toggleable__label-arrow\">LinearRegression</label><div class=\"sk-toggleable__content\"><pre>LinearRegression()</pre></div></div></div></div></div>"
      ],
      "text/plain": [
       "LinearRegression()"
      ]
     },
     "execution_count": 7,
     "metadata": {},
     "output_type": "execute_result"
    }
   ],
   "source": [
    "# Train the model with our training Data\n",
    "reg.fit(x_train,y_train)"
   ]
  },
  {
   "cell_type": "code",
   "execution_count": 8,
   "id": "1f49eb66",
   "metadata": {
    "execution": {
     "iopub.execute_input": "2023-12-02T11:36:23.399124Z",
     "iopub.status.busy": "2023-12-02T11:36:23.398732Z",
     "iopub.status.idle": "2023-12-02T11:36:23.406778Z",
     "shell.execute_reply": "2023-12-02T11:36:23.405769Z"
    },
    "papermill": {
     "duration": 0.015031,
     "end_time": "2023-12-02T11:36:23.408642",
     "exception": false,
     "start_time": "2023-12-02T11:36:23.393611",
     "status": "completed"
    },
    "tags": []
   },
   "outputs": [
    {
     "name": "stdout",
     "output_type": "stream",
     "text": [
      "[[ 4.44870466e-01  9.55004561e-03 -1.21991503e-01  7.79144696e-01\n",
      "  -7.68990809e-08 -3.29948505e-03 -4.19131153e-01 -4.34103468e-01]]\n"
     ]
    }
   ],
   "source": [
    "# Print the Coefficiency/Weight for each feature/column of a model\n",
    "print(reg.coef_) # f(x) = mx + da + b = y === m and d is coed=fficiency\n"
   ]
  },
  {
   "cell_type": "code",
   "execution_count": 9,
   "id": "eb2bcd0a",
   "metadata": {
    "execution": {
     "iopub.execute_input": "2023-12-02T11:36:23.418610Z",
     "iopub.status.busy": "2023-12-02T11:36:23.418247Z",
     "iopub.status.idle": "2023-12-02T11:36:23.429455Z",
     "shell.execute_reply": "2023-12-02T11:36:23.428658Z"
    },
    "papermill": {
     "duration": 0.021029,
     "end_time": "2023-12-02T11:36:23.433960",
     "exception": false,
     "start_time": "2023-12-02T11:36:23.412931",
     "status": "completed"
    },
    "tags": []
   },
   "outputs": [
    {
     "name": "stdout",
     "output_type": "stream",
     "text": [
      "[[0.72563462]\n",
      " [1.76650223]\n",
      " [2.70545812]\n",
      " ...\n",
      " [1.25803135]\n",
      " [1.66673014]\n",
      " [2.25826279]]\n"
     ]
    }
   ],
   "source": [
    "# print predictions on our test data\n",
    "y_pred = reg.predict(x_test)\n",
    "print(y_pred)"
   ]
  },
  {
   "cell_type": "code",
   "execution_count": 10,
   "id": "65f3c4ff",
   "metadata": {
    "execution": {
     "iopub.execute_input": "2023-12-02T11:36:23.464346Z",
     "iopub.status.busy": "2023-12-02T11:36:23.462595Z",
     "iopub.status.idle": "2023-12-02T11:36:23.474002Z",
     "shell.execute_reply": "2023-12-02T11:36:23.472990Z"
    },
    "papermill": {
     "duration": 0.028089,
     "end_time": "2023-12-02T11:36:23.477900",
     "exception": false,
     "start_time": "2023-12-02T11:36:23.449811",
     "status": "completed"
    },
    "tags": []
   },
   "outputs": [
    {
     "name": "stdout",
     "output_type": "stream",
     "text": [
      "             0\n",
      "20046  0.47700\n",
      "3024   0.45800\n",
      "15663  5.00001\n",
      "20484  2.18600\n",
      "9814   2.78000\n",
      "...        ...\n",
      "15316  1.66100\n",
      "14772  0.93600\n",
      "12870  1.07000\n",
      "13476  1.30700\n",
      "16123  3.07100\n",
      "\n",
      "[6812 rows x 1 columns]\n"
     ]
    }
   ],
   "source": [
    "# Print the actual Values\n",
    "print(y_test)"
   ]
  },
  {
   "cell_type": "code",
   "execution_count": 11,
   "id": "f35a667c",
   "metadata": {
    "execution": {
     "iopub.execute_input": "2023-12-02T11:36:23.501743Z",
     "iopub.status.busy": "2023-12-02T11:36:23.500702Z",
     "iopub.status.idle": "2023-12-02T11:36:23.508936Z",
     "shell.execute_reply": "2023-12-02T11:36:23.507834Z"
    },
    "papermill": {
     "duration": 0.020215,
     "end_time": "2023-12-02T11:36:23.512368",
     "exception": false,
     "start_time": "2023-12-02T11:36:23.492153",
     "status": "completed"
    },
    "tags": []
   },
   "outputs": [
    {
     "name": "stdout",
     "output_type": "stream",
     "text": [
      "0.5369686543372453\n"
     ]
    }
   ],
   "source": [
    "# Check the model performance/Accuracy using MSE\n",
    "print( np.mean( (y_pred - y_test)**2)) # ** means power\n"
   ]
  },
  {
   "cell_type": "code",
   "execution_count": 12,
   "id": "25f639a7",
   "metadata": {
    "execution": {
     "iopub.execute_input": "2023-12-02T11:36:23.528322Z",
     "iopub.status.busy": "2023-12-02T11:36:23.527878Z",
     "iopub.status.idle": "2023-12-02T11:36:23.535592Z",
     "shell.execute_reply": "2023-12-02T11:36:23.534282Z"
    },
    "papermill": {
     "duration": 0.019712,
     "end_time": "2023-12-02T11:36:23.540299",
     "exception": false,
     "start_time": "2023-12-02T11:36:23.520587",
     "status": "completed"
    },
    "tags": []
   },
   "outputs": [
    {
     "name": "stdout",
     "output_type": "stream",
     "text": [
      "0.5369686543372453\n"
     ]
    }
   ],
   "source": [
    "# Check the model performance/Accuracy using MSE and sklearn.metrics\n",
    "from sklearn.metrics import mean_squared_error\n",
    "print(mean_squared_error(y_test,y_pred))"
   ]
  },
  {
   "cell_type": "markdown",
   "id": "f2bd171e",
   "metadata": {
    "papermill": {
     "duration": 0.00485,
     "end_time": "2023-12-02T11:36:23.550319",
     "exception": false,
     "start_time": "2023-12-02T11:36:23.545469",
     "status": "completed"
    },
    "tags": []
   },
   "source": [
    "**Above MSE IS HIGH WE NEED NORMALIZATION AND DATA CLEANING BEFORE TRAINI**"
   ]
  },
  {
   "cell_type": "code",
   "execution_count": null,
   "id": "2edba50b",
   "metadata": {
    "papermill": {
     "duration": 0.004241,
     "end_time": "2023-12-02T11:36:23.559951",
     "exception": false,
     "start_time": "2023-12-02T11:36:23.555710",
     "status": "completed"
    },
    "tags": []
   },
   "outputs": [],
   "source": []
  },
  {
   "cell_type": "code",
   "execution_count": null,
   "id": "27e47f62",
   "metadata": {
    "papermill": {
     "duration": 0.004096,
     "end_time": "2023-12-02T11:36:23.568548",
     "exception": false,
     "start_time": "2023-12-02T11:36:23.564452",
     "status": "completed"
    },
    "tags": []
   },
   "outputs": [],
   "source": []
  }
 ],
 "metadata": {
  "kaggle": {
   "accelerator": "none",
   "dataSources": [],
   "dockerImageVersionId": 30587,
   "isGpuEnabled": false,
   "isInternetEnabled": true,
   "language": "python",
   "sourceType": "notebook"
  },
  "kernelspec": {
   "display_name": "Python 3",
   "language": "python",
   "name": "python3"
  },
  "language_info": {
   "codemirror_mode": {
    "name": "ipython",
    "version": 3
   },
   "file_extension": ".py",
   "mimetype": "text/x-python",
   "name": "python",
   "nbconvert_exporter": "python",
   "pygments_lexer": "ipython3",
   "version": "3.10.12"
  },
  "papermill": {
   "default_parameters": {},
   "duration": 7.523188,
   "end_time": "2023-12-02T11:36:24.294161",
   "environment_variables": {},
   "exception": null,
   "input_path": "__notebook__.ipynb",
   "output_path": "__notebook__.ipynb",
   "parameters": {},
   "start_time": "2023-12-02T11:36:16.770973",
   "version": "2.4.0"
  }
 },
 "nbformat": 4,
 "nbformat_minor": 5
}
